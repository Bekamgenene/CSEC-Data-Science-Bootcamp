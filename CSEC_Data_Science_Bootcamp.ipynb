{
  "nbformat": 4,
  "nbformat_minor": 0,
  "metadata": {
    "colab": {
      "provenance": [],
      "authorship_tag": "ABX9TyPgz7mps7pTls8qyoeWRB/0",
      "include_colab_link": true
    },
    "kernelspec": {
      "name": "python3",
      "display_name": "Python 3"
    },
    "language_info": {
      "name": "python"
    }
  },
  "cells": [
    {
      "cell_type": "markdown",
      "metadata": {
        "id": "view-in-github",
        "colab_type": "text"
      },
      "source": [
        "<a href=\"https://colab.research.google.com/github/Bekamgenene/CSEC-Data-Science-Bootcamp/blob/main/CSEC_Data_Science_Bootcamp.ipynb\" target=\"_parent\"><img src=\"https://colab.research.google.com/assets/colab-badge.svg\" alt=\"Open In Colab\"/></a>"
      ]
    },
    {
      "cell_type": "markdown",
      "source": [
        "1. What is the difference between a list, a dictionary, and a NumPy array? Give one example of each.\n",
        "\n",
        "list, dictionaries, and NumPy arrays are all data structures used to store collections of data, but they have different characteristics and use cases\n",
        "\n",
        "A.**List**\n",
        "a list is an ordered collection of items that can be of different types. Lists are mutable, meening you can change their content\n",
        "\n",
        "\n",
        "```\n",
        "#example with code formata\n",
        "my_list = [1, 2, 3, \"Bekam\", 4.5]\n",
        "print(my_list[3])  \n",
        "# Output: Bekam\n",
        "```\n",
        "B.**Dictionary**\n",
        "a dictionary is an unordered collection of key-value pairs. Each key must be unique, and its is used to access the corresponding value. Dictionaries are also mutable.\n",
        "\n",
        "```\n",
        "# example with code formata\n",
        "my_dict = {\"name\": \"Bekam\", \"age\": 22, \"country\": \"Ethiopia\"}\n",
        "print(my_dict[\"name\"])  \n",
        "# Output: Bekam\n",
        "```\n",
        "C.**NumPy Array**\n",
        "a NumPy array is powerfull n-dimensional array object provided by the NumPy library. It is used for Numerical computations and can store elements of the same type, which allows for efficient storage and operations.\n",
        "\n",
        "\n",
        "```\n",
        "#example with code formata\n",
        "import numpy as np\n",
        "my_array = np.array([1, 2, 3, 4])\n",
        "print(my_array * 2)  \n",
        "# Output: [2 4 6 8]\n",
        "```\n",
        "generally\n",
        "*   List: Ordered, mutable, can contain mixed types.\n",
        "*   Dictionary: Unordered, mutable, key-value pairs with unique keys.\n",
        "*   NumPy Array: Ordered, mutable, homogeneous data types, optimized for numerical operations.\n",
        "\n",
        "\n",
        "\n",
        "\n",
        "\n",
        "\n",
        "\n",
        "\n",
        "\n"
      ],
      "metadata": {
        "id": "_6Fu3kS1UinY"
      }
    },
    {
      "cell_type": "markdown",
      "source": [
        "2. Given the list [10, 15, 20, 25, 30], write a function that returns the square of only even numbers."
      ],
      "metadata": {
        "id": "xzdZSseMbS3f"
      }
    },
    {
      "cell_type": "code",
      "source": [
        "def square_even(lists):\n",
        "  even_squares = []\n",
        "  for num in lists:\n",
        "    if num % 2 == 0:\n",
        "      square = num ** 2\n",
        "      even_squares.append(square)\n",
        "  return even_squares\n",
        "\n",
        "  #For Example\n",
        "  lists1 = [10, 15, 20, 25, 30]\n",
        "  result = square_even(lists1)\n",
        "  print(result)"
      ],
      "metadata": {
        "id": "EEAK0Ns3bbhp"
      },
      "execution_count": null,
      "outputs": []
    },
    {
      "cell_type": "markdown",
      "source": [
        "What does the following code output, and why?\n",
        "\n",
        "The output is [1,2,3,4]\n",
        "becouse\n",
        "*  A list is created and assigned to variable x\n",
        "* y now points to the same list object as x (not a copy)\n",
        "* This modifies the list that both x and y refer to\n",
        "* Since x and y refer to the same list, x also shows the change\n",
        "\n"
      ],
      "metadata": {
        "id": "hKxeJOzbcQuM"
      }
    },
    {
      "cell_type": "markdown",
      "source": [
        "4. What does .shape and .describe() tell you about a pandas DataFrame? Show using an example.\n",
        "\n",
        "In pandas, a DataFrame is a Two-dimensional, Size-mutable,potentially heterogeneous tabular data structure with labeled axes (rows and columns). The shape and describe() methods provide useful information about the DataFrame.\n",
        "\n",
        "A.**.shape**\n",
        "The '.shape' attribute returns a tuple representing the dimensions of the DataFrame. It gives You the number of rows and columns in the format \"(numb_of_rows, numb_of_colums)\"\n",
        "\n",
        "B.**.describe()**\n",
        "he \".describe()\" method generates descriptive statistics of the DataFrame's numerical columns. It provides insights such as count, mean, standard deviation, minimum, maximum, and the quartiles (25%, 50%, 75%).\n",
        "\n",
        "#Example with code envaroment\n"
      ],
      "metadata": {
        "id": "q6kkoqfGdhpD"
      }
    },
    {
      "cell_type": "code",
      "source": [
        "import pandas as pd\n",
        "\n",
        "data = {\n",
        "    'A': [1, 2, 3, 4, 5],\n",
        "    'B': [5.5, 6.5, 7.5, 8.5, 9.5],\n",
        "    'C': ['bekam', 'tsega', 'bekam', 'tsega', 'bekam']\n",
        "}\n",
        "df = pd.DataFrame(data)\n",
        "shape = df.shape\n",
        "print(\"Shape of DataFrame:\", shape)\n",
        "\n",
        "description = df.describe()\n",
        "print(\"\\nDescriptive Statistics:\\n\", description)\n"
      ],
      "metadata": {
        "colab": {
          "base_uri": "https://localhost:8080/"
        },
        "id": "GRD2v9qXfnsV",
        "outputId": "30baa15b-9094-4161-9f56-d7d789c34811"
      },
      "execution_count": null,
      "outputs": [
        {
          "output_type": "stream",
          "name": "stdout",
          "text": [
            "Shape of DataFrame: (5, 3)\n",
            "\n",
            "Descriptive Statistics:\n",
            "               A         B\n",
            "count  5.000000  5.000000\n",
            "mean   3.000000  7.500000\n",
            "std    1.581139  1.581139\n",
            "min    1.000000  5.500000\n",
            "25%    2.000000  6.500000\n",
            "50%    3.000000  7.500000\n",
            "75%    4.000000  8.500000\n",
            "max    5.000000  9.500000\n"
          ]
        }
      ]
    },
    {
      "cell_type": "markdown",
      "source": [
        "in above exampe output\n",
        "The shape (5, 3) indicates that the DataFrame has 5 rows and 3 columns.\n",
        "The .describe() output shows the statistics for the numerical columns 'A' and 'B':\n",
        "*  count: Number of non-null entries.\n",
        "*  mean: Average value.\n",
        "*   mean: Average value.\n",
        "*   std: Standard deviation.\n",
        "*   min: Minimum value.\n",
        "*   25%, 50%, 75%: The first, second(median), and third quartiles\n",
        "*   max: Maximum value.\n",
        "The column 'C' is not included in the describe() output because it is non-numeric."
      ],
      "metadata": {
        "id": "zNb88fyUgK7I"
      }
    },
    {
      "cell_type": "markdown",
      "source": [
        "5. Load this CSV: airtravel.csv\n",
        "Print the first 5 rows\n",
        "What do you notice about the data?\n"
      ],
      "metadata": {
        "id": "2fr3aAxZhbcg"
      }
    },
    {
      "cell_type": "code",
      "source": [
        "from google.colab import files\n",
        "uploaded = files.upload()\n",
        "\n",
        "import pandas as pd\n",
        "df = pd.read_csv('airtravel.csv')\n",
        "print(df.head())"
      ],
      "metadata": {
        "colab": {
          "base_uri": "https://localhost:8080/",
          "height": 177
        },
        "id": "r8Le8_cbjfxs",
        "outputId": "7e5a0e17-e49e-41ee-8eba-fcd86a55bde3"
      },
      "execution_count": null,
      "outputs": [
        {
          "output_type": "display_data",
          "data": {
            "text/plain": [
              "<IPython.core.display.HTML object>"
            ],
            "text/html": [
              "\n",
              "     <input type=\"file\" id=\"files-92df922c-4edd-478c-839e-ca17d8e7a80d\" name=\"files[]\" multiple disabled\n",
              "        style=\"border:none\" />\n",
              "     <output id=\"result-92df922c-4edd-478c-839e-ca17d8e7a80d\">\n",
              "      Upload widget is only available when the cell has been executed in the\n",
              "      current browser session. Please rerun this cell to enable.\n",
              "      </output>\n",
              "      <script>// Copyright 2017 Google LLC\n",
              "//\n",
              "// Licensed under the Apache License, Version 2.0 (the \"License\");\n",
              "// you may not use this file except in compliance with the License.\n",
              "// You may obtain a copy of the License at\n",
              "//\n",
              "//      http://www.apache.org/licenses/LICENSE-2.0\n",
              "//\n",
              "// Unless required by applicable law or agreed to in writing, software\n",
              "// distributed under the License is distributed on an \"AS IS\" BASIS,\n",
              "// WITHOUT WARRANTIES OR CONDITIONS OF ANY KIND, either express or implied.\n",
              "// See the License for the specific language governing permissions and\n",
              "// limitations under the License.\n",
              "\n",
              "/**\n",
              " * @fileoverview Helpers for google.colab Python module.\n",
              " */\n",
              "(function(scope) {\n",
              "function span(text, styleAttributes = {}) {\n",
              "  const element = document.createElement('span');\n",
              "  element.textContent = text;\n",
              "  for (const key of Object.keys(styleAttributes)) {\n",
              "    element.style[key] = styleAttributes[key];\n",
              "  }\n",
              "  return element;\n",
              "}\n",
              "\n",
              "// Max number of bytes which will be uploaded at a time.\n",
              "const MAX_PAYLOAD_SIZE = 100 * 1024;\n",
              "\n",
              "function _uploadFiles(inputId, outputId) {\n",
              "  const steps = uploadFilesStep(inputId, outputId);\n",
              "  const outputElement = document.getElementById(outputId);\n",
              "  // Cache steps on the outputElement to make it available for the next call\n",
              "  // to uploadFilesContinue from Python.\n",
              "  outputElement.steps = steps;\n",
              "\n",
              "  return _uploadFilesContinue(outputId);\n",
              "}\n",
              "\n",
              "// This is roughly an async generator (not supported in the browser yet),\n",
              "// where there are multiple asynchronous steps and the Python side is going\n",
              "// to poll for completion of each step.\n",
              "// This uses a Promise to block the python side on completion of each step,\n",
              "// then passes the result of the previous step as the input to the next step.\n",
              "function _uploadFilesContinue(outputId) {\n",
              "  const outputElement = document.getElementById(outputId);\n",
              "  const steps = outputElement.steps;\n",
              "\n",
              "  const next = steps.next(outputElement.lastPromiseValue);\n",
              "  return Promise.resolve(next.value.promise).then((value) => {\n",
              "    // Cache the last promise value to make it available to the next\n",
              "    // step of the generator.\n",
              "    outputElement.lastPromiseValue = value;\n",
              "    return next.value.response;\n",
              "  });\n",
              "}\n",
              "\n",
              "/**\n",
              " * Generator function which is called between each async step of the upload\n",
              " * process.\n",
              " * @param {string} inputId Element ID of the input file picker element.\n",
              " * @param {string} outputId Element ID of the output display.\n",
              " * @return {!Iterable<!Object>} Iterable of next steps.\n",
              " */\n",
              "function* uploadFilesStep(inputId, outputId) {\n",
              "  const inputElement = document.getElementById(inputId);\n",
              "  inputElement.disabled = false;\n",
              "\n",
              "  const outputElement = document.getElementById(outputId);\n",
              "  outputElement.innerHTML = '';\n",
              "\n",
              "  const pickedPromise = new Promise((resolve) => {\n",
              "    inputElement.addEventListener('change', (e) => {\n",
              "      resolve(e.target.files);\n",
              "    });\n",
              "  });\n",
              "\n",
              "  const cancel = document.createElement('button');\n",
              "  inputElement.parentElement.appendChild(cancel);\n",
              "  cancel.textContent = 'Cancel upload';\n",
              "  const cancelPromise = new Promise((resolve) => {\n",
              "    cancel.onclick = () => {\n",
              "      resolve(null);\n",
              "    };\n",
              "  });\n",
              "\n",
              "  // Wait for the user to pick the files.\n",
              "  const files = yield {\n",
              "    promise: Promise.race([pickedPromise, cancelPromise]),\n",
              "    response: {\n",
              "      action: 'starting',\n",
              "    }\n",
              "  };\n",
              "\n",
              "  cancel.remove();\n",
              "\n",
              "  // Disable the input element since further picks are not allowed.\n",
              "  inputElement.disabled = true;\n",
              "\n",
              "  if (!files) {\n",
              "    return {\n",
              "      response: {\n",
              "        action: 'complete',\n",
              "      }\n",
              "    };\n",
              "  }\n",
              "\n",
              "  for (const file of files) {\n",
              "    const li = document.createElement('li');\n",
              "    li.append(span(file.name, {fontWeight: 'bold'}));\n",
              "    li.append(span(\n",
              "        `(${file.type || 'n/a'}) - ${file.size} bytes, ` +\n",
              "        `last modified: ${\n",
              "            file.lastModifiedDate ? file.lastModifiedDate.toLocaleDateString() :\n",
              "                                    'n/a'} - `));\n",
              "    const percent = span('0% done');\n",
              "    li.appendChild(percent);\n",
              "\n",
              "    outputElement.appendChild(li);\n",
              "\n",
              "    const fileDataPromise = new Promise((resolve) => {\n",
              "      const reader = new FileReader();\n",
              "      reader.onload = (e) => {\n",
              "        resolve(e.target.result);\n",
              "      };\n",
              "      reader.readAsArrayBuffer(file);\n",
              "    });\n",
              "    // Wait for the data to be ready.\n",
              "    let fileData = yield {\n",
              "      promise: fileDataPromise,\n",
              "      response: {\n",
              "        action: 'continue',\n",
              "      }\n",
              "    };\n",
              "\n",
              "    // Use a chunked sending to avoid message size limits. See b/62115660.\n",
              "    let position = 0;\n",
              "    do {\n",
              "      const length = Math.min(fileData.byteLength - position, MAX_PAYLOAD_SIZE);\n",
              "      const chunk = new Uint8Array(fileData, position, length);\n",
              "      position += length;\n",
              "\n",
              "      const base64 = btoa(String.fromCharCode.apply(null, chunk));\n",
              "      yield {\n",
              "        response: {\n",
              "          action: 'append',\n",
              "          file: file.name,\n",
              "          data: base64,\n",
              "        },\n",
              "      };\n",
              "\n",
              "      let percentDone = fileData.byteLength === 0 ?\n",
              "          100 :\n",
              "          Math.round((position / fileData.byteLength) * 100);\n",
              "      percent.textContent = `${percentDone}% done`;\n",
              "\n",
              "    } while (position < fileData.byteLength);\n",
              "  }\n",
              "\n",
              "  // All done.\n",
              "  yield {\n",
              "    response: {\n",
              "      action: 'complete',\n",
              "    }\n",
              "  };\n",
              "}\n",
              "\n",
              "scope.google = scope.google || {};\n",
              "scope.google.colab = scope.google.colab || {};\n",
              "scope.google.colab._files = {\n",
              "  _uploadFiles,\n",
              "  _uploadFilesContinue,\n",
              "};\n",
              "})(self);\n",
              "</script> "
            ]
          },
          "metadata": {}
        },
        {
          "output_type": "stream",
          "name": "stdout",
          "text": [
            "Saving airtravel.csv to airtravel.csv\n",
            "  Month   \"1958\"   \"1959\"   \"1960\"\n",
            "0   JAN      340      360      417\n",
            "1   FEB      318      342      391\n",
            "2   MAR      362      406      419\n",
            "3   APR      348      396      461\n",
            "4   MAY      363      420      472\n"
          ]
        }
      ]
    },
    {
      "cell_type": "markdown",
      "source": [
        "this is what i notice from above input and out put\n",
        "* The dataset shows monthly air travel data.\n",
        "* Columns are years (1958, 1959, 1960).\n",
        "* The rows represent months.  \n",
        "* Values are the number of airline passengers (in thousands).\n",
        "* The format is wide-form, with one row per month and a column for each year."
      ],
      "metadata": {
        "id": "Qj3YCysQkdNA"
      }
    },
    {
      "cell_type": "markdown",
      "source": [
        "6. Load the CSV from Q5 and find:\n",
        "  The month with the highest total passengers\n",
        "  The month with the lowest in 1958"
      ],
      "metadata": {
        "id": "PiqvjzjJlCOY"
      }
    },
    {
      "cell_type": "code",
      "source": [
        "import pandas as pd\n",
        "df = pd.read_csv(\"airtravel.csv\")\n",
        "df.columns = df.columns.str.strip().str.replace('\"', '')\n",
        "df[\"Total\"] = df[\"1958\"] + df[\"1959\"] + df[\"1960\"]\n",
        "\n",
        "max_total_month = df.loc[df[\"Total\"].idxmax()]\n",
        "min_1958_month = df.loc[df[\"1958\"].idxmin()]\n",
        "\n",
        "print(\"Month with the highest total passengers:\")\n",
        "print(max_total_month)\n",
        "\n",
        "print(\"\\nMonth with the lowest passengers in 1958:\")\n",
        "print(min_1958_month)"
      ],
      "metadata": {
        "colab": {
          "base_uri": "https://localhost:8080/"
        },
        "id": "leuIPkeBnqOf",
        "outputId": "afa3420a-7c24-4022-976f-c8b80b5dea84"
      },
      "execution_count": null,
      "outputs": [
        {
          "output_type": "stream",
          "name": "stdout",
          "text": [
            "Month with the highest total passengers:\n",
            "Month     AUG\n",
            "1958      505\n",
            "1959      559\n",
            "1960      606\n",
            "Total    1670\n",
            "Name: 7, dtype: object\n",
            "\n",
            "Month with the lowest passengers in 1958:\n",
            "Month     NOV\n",
            "1958      310\n",
            "1959      362\n",
            "1960      390\n",
            "Total    1062\n",
            "Name: 10, dtype: object\n"
          ]
        }
      ]
    },
    {
      "cell_type": "markdown",
      "source": [
        "7.  What does the .groupby() function do in pandas? Show an example using dummy data.\n",
        "\n",
        "the groupby() function in pandas is used to split the the data into groips base don some criteria, then apply a function(like sum(), mean() and other functions) to each group and finally combine the reasults.\n",
        "\n",
        "\n",
        "\n"
      ],
      "metadata": {
        "id": "8f8WWLvnoThx"
      }
    },
    {
      "cell_type": "code",
      "source": [
        "#Example using dummy data\n",
        "\n",
        "data = {\n",
        "    'Store': ['A', 'A', 'B', 'B', 'C', 'C'],\n",
        "    'Product': ['sure', 'chama', 'sure', 'chama', 'sure', 'chama'],\n",
        "    'Sales': [100, 150, 200, 180, 90, 120]\n",
        "}\n",
        "\n",
        "df = pd.DataFrame(data)\n",
        "grouped_df = df.groupby(['Store', 'Product']).sum()\n",
        "print(grouped_df)\n"
      ],
      "metadata": {
        "colab": {
          "base_uri": "https://localhost:8080/"
        },
        "id": "WIG7WEJxpGys",
        "outputId": "7b17a996-bfff-4e60-e540-0c820a290cdf"
      },
      "execution_count": null,
      "outputs": [
        {
          "output_type": "stream",
          "name": "stdout",
          "text": [
            "               Sales\n",
            "Store Product       \n",
            "A     chama      150\n",
            "      sure       100\n",
            "B     chama      180\n",
            "      sure       200\n",
            "C     chama      120\n",
            "      sure        90\n"
          ]
        }
      ]
    },
    {
      "cell_type": "markdown",
      "source": [
        "8. Load the Titanic dataset from seaborn and:Count how many missing values are in each column"
      ],
      "metadata": {
        "id": "HUWBb63dpvS5"
      }
    },
    {
      "cell_type": "code",
      "source": [
        "import seaborn as sns\n",
        "import pandas as pd\n",
        "\n",
        "titanic = sns.load_dataset('titanic')\n",
        "missing_values = titanic.isnull().sum()\n",
        "print(missing_values)"
      ],
      "metadata": {
        "colab": {
          "base_uri": "https://localhost:8080/"
        },
        "id": "BcX81U8JqLOS",
        "outputId": "d864aec1-43b3-458f-ce26-045839633b1e"
      },
      "execution_count": null,
      "outputs": [
        {
          "output_type": "stream",
          "name": "stdout",
          "text": [
            "survived         0\n",
            "pclass           0\n",
            "sex              0\n",
            "age            177\n",
            "sibsp            0\n",
            "parch            0\n",
            "fare             0\n",
            "embarked         2\n",
            "class            0\n",
            "who              0\n",
            "adult_male       0\n",
            "deck           688\n",
            "embark_town      2\n",
            "alive            0\n",
            "alone            0\n",
            "dtype: int64\n"
          ]
        }
      ]
    },
    {
      "cell_type": "markdown",
      "source": [
        "9. Use df[\"Age\"].hist() to visualize the age distribution. What shape do you see What might be the reason for the skew?"
      ],
      "metadata": {
        "id": "aI51Rd7TqnqZ"
      }
    },
    {
      "cell_type": "code",
      "source": [
        "import seaborn as sns\n",
        "import matplotlib.pyplot as plt\n",
        "\n",
        "titanic = sns.load_dataset('titanic')\n",
        "titanic[\"age\"].hist(bins=20, edgecolor='black')\n",
        "plt.title(\"Age Distribution of Titanic Passengers\")\n",
        "plt.xlabel(\"Age\")\n",
        "plt.ylabel(\"Frequency\")\n",
        "plt.show()"
      ],
      "metadata": {
        "colab": {
          "base_uri": "https://localhost:8080/",
          "height": 472
        },
        "id": "spKIfr7aq44O",
        "outputId": "ef496c3a-593d-43e2-8d5e-89d71f06f9aa"
      },
      "execution_count": null,
      "outputs": [
        {
          "output_type": "display_data",
          "data": {
            "text/plain": [
              "<Figure size 640x480 with 1 Axes>"
            ],
            "image/png": "[encoded data removed]"
          },
          "metadata": {}
        }
      ]
    },
    {
      "cell_type": "markdown",
      "source": [
        "in above distribution histogram i see\n",
        ">>The histogram shows a right-skewed distribution (also called positively skewed).\n",
        "\n",
        ">>There’s a peak around ages 20–30, and fewer people at higher ages.\n",
        "\n",
        ">>Some very young passengers (age < 5) and very old passengers (age > 60) are present but less frequent\n",
        "\n",
        "**The reason why it might skewed**\n",
        "*   More young adults and children were likely traveling.\n",
        "*  Fewer elderly passengers traveled due to health or mobility reasons.\n",
        "\n",
        "*  Social and economic factors at the time may have influenced who could afford to travel or who had reasons to emigrate.\n",
        "\n"
      ],
      "metadata": {
        "id": "VsEPgwU-rqWK"
      }
    },
    {
      "cell_type": "markdown",
      "source": [
        "10. What does it mean if a column has a high standard deviation? Create a list or column that has a low and a high std. dev, and compare.  \n",
        "\n",
        "**a column has a high standard deviation means**\n",
        "\n",
        "*   It means the values in the column are spread out widely from the mean (average).\n",
        "\n",
        "* There’s more variability or inconsistency in the data.  \n",
        "\n",
        "**low standard deviation means**\n",
        "\n",
        "*  Values are closer to the mean.\n",
        "*  Data is more consistent or tightly grouped.\n",
        "\n",
        "\n",
        "\n",
        "\n",
        "\n",
        "\n",
        "\n",
        "\n",
        "\n",
        "\n"
      ],
      "metadata": {
        "id": "azUpKa_QsfyR"
      }
    },
    {
      "cell_type": "code",
      "source": [
        "# for example let as compare two lists\n",
        "\n",
        "import numpy as np\n",
        "low_std = [49, 50, 51, 50, 49, 51, 50]\n",
        "high_std = [10, 20, 30, 40, 50, 60, 70]\n",
        "\n",
        "low_std_dev = np.std(low_std)\n",
        "high_std_dev = np.std(high_std)\n",
        "\n",
        "print(\"Low Standard Deviation:\", low_std_dev)\n",
        "print(\"High Standard Deviation:\", high_std_dev)\n",
        "\n"
      ],
      "metadata": {
        "colab": {
          "base_uri": "https://localhost:8080/"
        },
        "id": "ynkLzDcBum0w",
        "outputId": "fd32dab1-e5dd-4ccd-eae1-99576079eea6"
      },
      "execution_count": null,
      "outputs": [
        {
          "output_type": "stream",
          "name": "stdout",
          "text": [
            "Low Standard Deviation: 0.7559289460184544\n",
            "High Standard Deviation: 20.0\n"
          ]
        }
      ]
    },
    {
      "cell_type": "markdown",
      "source": [
        "compartion of two above lists\n",
        "*   The low_std list shows values all hovering around 50 → very stable.\n",
        "*   The high_std list jumps from 10 to 70 → very spread out, less predictable.\n",
        "\n"
      ],
      "metadata": {
        "id": "yF0m0dUcvR0x"
      }
    },
    {
      "cell_type": "markdown",
      "source": [
        "11. What are some real-world problems where missing data might affect results? Give 2 examples.\n",
        "\n",
        "Missing data isn't just a technical issue — it can actually lead to misleading conclusions, bad decisions, and even real-world harm. let show with for more explain of how to harm the data.\n",
        "\n",
        "**Job Hiring & Resume Screening**\n",
        "\n",
        "Suppose a company uses AI to screen job applications. If the system is trained on incomplete data like missing work history, skills, or education it may:\n",
        "*   Reject qualified candidates\n",
        "*   Favor only those with complete or “perfect” resumes\n",
        "* Create biases against people from non-traditional backgrounds\n",
        "\n",
        "at the result this may lead to unfair hiring practices and a less diverse, less qualified workforce.\n",
        "\n",
        "**Climate Research & Environmental Monitoring**\n",
        "\n",
        "cientists use satellite and ground data to study global temperature trends.\n",
        "They rely on:\n",
        "* Sea surface temperatures\n",
        "* Air quality readings\n",
        "* Ice melt measurements\n",
        "\n",
        "But in remote areas (like the Arctic), data is often missing due to sensor failure or lack of equipment\n",
        "\n",
        "A warming trend might be underestimated, simply because the hottest places aren't being measured consistently.\n",
        "\n",
        "effect of this result is:\n",
        "* Climate models become less accurate\n",
        "* Delayed or wrong policy decisions\n",
        "* Environmental risks go unnoticed\n",
        "\n",
        "\n",
        "\n"
      ],
      "metadata": {
        "id": "MBqh1Vysve6L"
      }
    }
  ]
}